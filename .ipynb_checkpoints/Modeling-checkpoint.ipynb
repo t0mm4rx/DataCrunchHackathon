{
 "cells": [
  {
   "cell_type": "code",
   "execution_count": 1,
   "metadata": {},
   "outputs": [],
   "source": [
    "from tools import clean_data, get_pca_features, get_features\n",
    "from sklearn.model_selection import train_test_split\n",
    "from sklearn import metrics\n",
    "import pandas as pd\n",
    "import matplotlib.pyplot as plt"
   ]
  },
  {
   "cell_type": "code",
   "execution_count": 7,
   "metadata": {},
   "outputs": [
    {
     "name": "stdout",
     "output_type": "stream",
     "text": [
      "(100000, 28)\n",
      "(100000, 1)\n",
      "[-0.01876629 -0.05389559 -0.00717387 -0.01051544  0.82391315 -0.15562282\n",
      " -0.00633034 -0.12174728 -0.00668393 -1.40956764  1.          0.\n",
      "  0.          0.          0.          0.          0.          0.\n",
      "  1.          0.          0.          0.          1.          0.\n",
      "  0.          0.          0.          1.        ]\n",
      "[1]\n",
      "Train data: (95000, 28) / (95000, 1)\n",
      "CV data: (5000, 28) / (5000, 1)\n"
     ]
    }
   ],
   "source": [
    "pd.set_option('display.max_columns', None)\n",
    "train_df = pd.read_pickle(\"train_test_hackathon.pkl\")\n",
    "train_df = clean_data(train_df)\n",
    "# x_all = get_pca_features(get_features(train_df))[:100000]\n",
    "x_all = get_features(train_df).values[:20000]\n",
    "y_all = train_df[['target_r']].values[:20000]\n",
    "print(x_all.shape)\n",
    "print(y_all.shape)\n",
    "\n",
    "print(x_all[0])\n",
    "print(y_all[0])\n",
    "\n",
    "x_train, x_cv, y_train, y_cv = train_test_split(x_all, y_all, test_size=0.05)\n",
    "\n",
    "print(\"Train data: {} / {}\".format(x_train.shape, y_train.shape))\n",
    "print(\"CV data: {} / {}\".format(x_cv.shape, y_cv.shape))"
   ]
  },
  {
   "cell_type": "code",
   "execution_count": 9,
   "metadata": {},
   "outputs": [
    {
     "name": "stdout",
     "output_type": "stream",
     "text": [
      "Model: \"sequential\"\n",
      "_________________________________________________________________\n",
      "Layer (type)                 Output Shape              Param #   \n",
      "=================================================================\n",
      "dense (Dense)                (None, 100)               2900      \n",
      "_________________________________________________________________\n",
      "dense_1 (Dense)              (None, 1)                 101       \n",
      "=================================================================\n",
      "Total params: 3,001\n",
      "Trainable params: 3,001\n",
      "Non-trainable params: 0\n",
      "_________________________________________________________________\n",
      "Epoch 1/10\n",
      "47500/47500 [==============================] - 89s 2ms/step - loss: 0.2994 - binary_accuracy: 0.5568 - precision: 0.4885 - val_loss: 0.6424 - val_binary_accuracy: 0.5554 - val_precision: 0.4864\n",
      "Epoch 2/10\n",
      "47500/47500 [==============================] - 90s 2ms/step - loss: 0.2957 - binary_accuracy: 0.5584 - precision: 0.4898 - val_loss: 0.6090 - val_binary_accuracy: 0.5606 - val_precision: 0.4879\n",
      "Epoch 3/10\n",
      "47500/47500 [==============================] - 93s 2ms/step - loss: 0.2946 - binary_accuracy: 0.5576 - precision: 0.4895 - val_loss: 0.6308 - val_binary_accuracy: 0.5548 - val_precision: 0.4861\n",
      "Epoch 4/10\n",
      "47500/47500 [==============================] - 93s 2ms/step - loss: 0.2937 - binary_accuracy: 0.5596 - precision: 0.4908 - val_loss: 0.6190 - val_binary_accuracy: 0.5584 - val_precision: 0.4878\n",
      "Epoch 5/10\n",
      "47500/47500 [==============================] - 95s 2ms/step - loss: 0.2934 - binary_accuracy: 0.5587 - precision: 0.4903 - val_loss: 0.6230 - val_binary_accuracy: 0.5556 - val_precision: 0.4865\n",
      "Epoch 6/10\n",
      "47500/47500 [==============================] - 96s 2ms/step - loss: 0.2928 - binary_accuracy: 0.5594 - precision: 0.4907 - val_loss: 0.6184 - val_binary_accuracy: 0.5596 - val_precision: 0.4886\n",
      "Epoch 7/10\n",
      "47500/47500 [==============================] - 96s 2ms/step - loss: 0.2927 - binary_accuracy: 0.5594 - precision: 0.4907 - val_loss: 0.6162 - val_binary_accuracy: 0.5568 - val_precision: 0.4869\n",
      "Epoch 8/10\n",
      "47500/47500 [==============================] - 97s 2ms/step - loss: 0.2924 - binary_accuracy: 0.5597 - precision: 0.4909 - val_loss: 0.6102 - val_binary_accuracy: 0.5622 - val_precision: 0.4900\n",
      "Epoch 9/10\n",
      "47500/47500 [==============================] - 98s 2ms/step - loss: 0.2923 - binary_accuracy: 0.5603 - precision: 0.4912 - val_loss: 0.6132 - val_binary_accuracy: 0.5656 - val_precision: 0.4920\n",
      "Epoch 10/10\n",
      "47500/47500 [==============================] - 97s 2ms/step - loss: 0.2922 - binary_accuracy: 0.5614 - precision: 0.4918 - val_loss: 0.6130 - val_binary_accuracy: 0.5622 - val_precision: 0.4902\n"
     ]
    },
    {
     "data": {
      "image/png": "[encoded data removed]",
      "text/plain": [
       "<Figure size 432x288 with 1 Axes>"
      ]
     },
     "metadata": {},
     "output_type": "display_data"
    }
   ],
   "source": [
    "import tensorflow as tf\n",
    "class_weights = {\n",
    "    0: 0.40,\n",
    "    1: 0.60\n",
    "}\n",
    "keras_log = tf.keras.models.Sequential([\n",
    "    tf.keras.layers.Dense(100, activation='sigmoid', input_shape=(x_train.shape[1],)),\n",
    "    tf.keras.layers.Dense(1, activation='sigmoid'),\n",
    "])\n",
    "keras_log.compile(optimizer='adam', loss='binary_crossentropy', metrics=['binary_accuracy', tf.keras.metrics.Precision(name=\"precision\")])\n",
    "keras_log.summary()\n",
    "history = keras_log.fit(x=x_train, y=y_train, batch_size=2, epochs=10, shuffle=True, validation_data=(x_cv, y_cv), class_weight=class_weights)\n",
    "plt.plot(history.history['binary_accuracy'], label=\"Accuracy\")\n",
    "plt.plot(history.history['val_binary_accuracy'], label=\"Val accuracy\")\n",
    "plt.plot(history.history['precision'], label=\"Precision\")\n",
    "plt.plot(history.history['val_precision'], label=\"Val precision\")\n",
    "plt.legend()\n",
    "plt.show()"
   ]
  },
  {
   "cell_type": "code",
   "execution_count": 8,
   "metadata": {},
   "outputs": [
    {
     "name": "stderr",
     "output_type": "stream",
     "text": [
      "/usr/local/lib/python3.8/site-packages/sklearn/utils/validation.py:72: DataConversionWarning: A column-vector y was passed when a 1d array was expected. Please change the shape of y to (n_samples, ), for example using ravel().\n",
      "  return f(**kwargs)\n"
     ]
    },
    {
     "name": "stdout",
     "output_type": "stream",
     "text": [
      "              precision    recall  f1-score   support\n",
      "\n",
      "           0       0.68      0.76      0.72      2894\n",
      "           1       0.60      0.51      0.55      2106\n",
      "\n",
      "    accuracy                           0.65      5000\n",
      "   macro avg       0.64      0.63      0.63      5000\n",
      "weighted avg       0.65      0.65      0.65      5000\n",
      "\n"
     ]
    }
   ],
   "source": [
    "import xgboost as xgb\n",
    "xgb_model = xgb.XGBClassifier(max_depth=5, learning_rate=0.01, n_estimators=4000, colsample_bytree=0.1)\n",
    "xgb_model.fit(x_train, y_train)\n",
    "y_pred = xgb_model.predict(x_cv)\n",
    "print(metrics.classification_report(y_cv, y_pred))"
   ]
  },
  {
   "cell_type": "code",
   "execution_count": null,
   "metadata": {},
   "outputs": [],
   "source": [
    "from sklearn.ensemble import RandomForestClassifier\n",
    "clf = RandomForestClassifier(n_estimators=1000)\n",
    "clf = clf.fit(x_train, y_train)\n",
    "y_pred=clf.predict(x_test)\n",
    "print(\"Test accuracy: {:.2f}%\".format(metrics.accuracy_score(y_pred, y_test) * 100))"
   ]
  }
 ],
 "metadata": {
  "kernelspec": {
   "display_name": "Python 3",
   "language": "python",
   "name": "python3"
  }
 },
 "nbformat": 4,
 "nbformat_minor": 4
}
